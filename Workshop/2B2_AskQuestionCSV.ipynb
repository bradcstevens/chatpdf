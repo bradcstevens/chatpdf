{
 "cells": [
  {
   "attachments": {},
   "cell_type": "markdown",
   "metadata": {},
   "source": [
    "### Langchain\n",
    "[LangChain](https://python.langchain.com/en/latest/index.html) is a framework for developing applications powered by language models. We believe that the most powerful and differentiated applications will not only call out to a language model, but will also be:\n",
    "- Data-aware: connect a language model to other sources of data\n",
    "- Agentic: allow a language model to interact with its environment\n",
    "\n",
    "The LangChain framework is designed around these principles.\n",
    "\n",
    "We will use Langchain framework for rest of the workshop."
   ]
  },
  {
   "attachments": {},
   "cell_type": "markdown",
   "metadata": {},
   "source": [
    "#### Question Answering over the docs/index\n",
    "Question answering in this context refers to question answering over your document data.  For question answering over many documents, you almost always want to create an index over the data. This can be used to smartly access the most relevant documents for a given question, allowing you to avoid having to pass all the documents to the LLM (saving you time and money)."
   ]
  },
  {
   "attachments": {},
   "cell_type": "markdown",
   "metadata": {},
   "source": [
    "#### Set Environment Variables"
   ]
  },
  {
   "cell_type": "code",
   "execution_count": 19,
   "metadata": {},
   "outputs": [],
   "source": [
    "import json  \n",
    "import openai\n",
    "from Utilities.envVars import *\n",
    "import os\n",
    "\n",
    "os.environ[\"AZURESEARCH_FIELDS_ID\"] = \"id\"\n",
    "os.environ[\"AZURESEARCH_FIELDS_CONTENT\"] = \"content\"\n",
    "os.environ[\"AZURESEARCH_FIELDS_CONTENT_VECTOR\"] = \"contentVector\"\n",
    "os.environ[\"AZURESEARCH_FIELDS_TAG\"] = \"{}\"\n",
    "\n",
    "# Set Search Service endpoint, index name, and API key from environment variables\n",
    "indexName = SearchIndex\n",
    "\n",
    "# Set OpenAI API key and endpoint\n",
    "openAiEndPoint = f\"{OpenAiEndPoint}\"\n",
    "assert openAiEndPoint, \"ERROR: Azure OpenAI Endpoint is missing\""
   ]
  },
  {
   "attachments": {},
   "cell_type": "markdown",
   "metadata": {},
   "source": [
    "#### Generate answer for a question from the document we already indexed in Vector Store"
   ]
  },
  {
   "cell_type": "code",
   "execution_count": 20,
   "metadata": {},
   "outputs": [
    {
     "name": "stderr",
     "output_type": "stream",
     "text": [
      "c:\\Users\\astalati\\AppData\\Local\\Programs\\Python\\Python39\\lib\\site-packages\\langchain\\embeddings\\openai.py:217: UserWarning: WARNING! engine is not default parameter.\n",
      "                    engine was transferred to model_kwargs.\n",
      "                    Please confirm that engine is what you intended.\n",
      "  warnings.warn(\n"
     ]
    }
   ],
   "source": [
    "from langchain.chat_models import AzureChatOpenAI, ChatOpenAI\n",
    "from langchain.embeddings.openai import OpenAIEmbeddings\n",
    "from langchain.docstore.document import Document\n",
    "\n",
    "embeddingModelType = \"azureopenai\"\n",
    "temperature = 0.3\n",
    "tokenLength = 1000\n",
    "\n",
    "if (embeddingModelType == 'azureopenai'):\n",
    "        openai.api_type = \"azure\"\n",
    "        openai.api_key = OpenAiKey\n",
    "        openai.api_version = OpenAiVersion\n",
    "        openai.api_base = f\"{OpenAiEndPoint}\"\n",
    "\n",
    "        llm = AzureChatOpenAI(\n",
    "                openai_api_base=openai.api_base,\n",
    "                openai_api_version=OpenAiVersion,\n",
    "                deployment_name=OpenAiChat,\n",
    "                temperature=temperature,\n",
    "                openai_api_key=OpenAiKey,\n",
    "                openai_api_type=\"azure\",\n",
    "                max_tokens=tokenLength)\n",
    "        embeddings = OpenAIEmbeddings(engine=OpenAiEmbedding, chunk_size=1, openai_api_key=OpenAiKey)\n",
    "        logging.info(\"LLM Setup done\")\n",
    "elif embeddingModelType == \"openai\":\n",
    "        openai.api_type = \"open_ai\"\n",
    "        openai.api_base = \"https://api.openai.com/v1\"\n",
    "        openai.api_version = '2020-11-07' \n",
    "        openai.api_key = OpenAiApiKey\n",
    "        llm = ChatOpenAI(temperature=temperature,\n",
    "        openai_api_key=OpenAiApiKey,\n",
    "        model_name=\"gpt-3.5-turbo\",\n",
    "        max_tokens=tokenLength)\n",
    "        embeddings = OpenAIEmbeddings(openai_api_key=OpenAiApiKey)"
   ]
  },
  {
   "cell_type": "code",
   "execution_count": 21,
   "metadata": {},
   "outputs": [],
   "source": [
    "from langchain.document_loaders.csv_loader import CSVLoader\n",
    "\n",
    "loader = CSVLoader(\n",
    "    file_path=\"../Workshop/Data/CSV/Compliance Inbox.csv\",\n",
    "    csv_args={\n",
    "        \"delimiter\": \",\",\n",
    "        \"quotechar\": '\"',\n",
    "        \"fieldnames\": [\"Question\", \"Other ways to ask\", \"Response\", \"GRI Resource Link\"],\n",
    "    },\n",
    "    encoding=\"utf-8\",\n",
    ")\n",
    "docs = loader.load()"
   ]
  },
  {
   "cell_type": "code",
   "execution_count": 22,
   "metadata": {},
   "outputs": [],
   "source": [
    "from langchain.vectorstores import DocArrayInMemorySearch\n",
    "db = DocArrayInMemorySearch.from_documents(docs, embeddings)"
   ]
  },
  {
   "cell_type": "code",
   "execution_count": 23,
   "metadata": {},
   "outputs": [],
   "source": [
    "from langchain.chains import RetrievalQA  \n",
    "\n",
    "retriever = db.as_retriever()\n",
    "chain = RetrievalQA.from_chain_type(llm = llm, retriever = retriever, verbose=False, chain_type = \"stuff\")"
   ]
  },
  {
   "cell_type": "code",
   "execution_count": 34,
   "metadata": {},
   "outputs": [],
   "source": [
    "def runChain(question):\n",
    "    response = chain.run(question)\n",
    "    return response"
   ]
  },
  {
   "cell_type": "code",
   "execution_count": 35,
   "metadata": {},
   "outputs": [
    {
     "name": "stdout",
     "output_type": "stream",
     "text": [
      "Question: Can I share my credit report?\n",
      "Answer: GRI is not permitted to share the credit report with you under our agreement with the Credit Reporting Agencies. However, you are eligible to receive a free copy of your credit report annually by visiting https://www.annualcreditreport.com/index.action.\n",
      "\n",
      "Question: Recast Request?\n",
      "Answer: To request a recast, please direct the borrower to http://www.rate.com/servicing to contact their servicer.\n",
      "\n",
      "Question: How do I make lock transfer request?\n",
      "Answer: You can submit a lock transfer request by using the link provided below. The commitment desk should be able to assist you with any questions you have about the lock transfer.\n",
      "\n",
      "GRI Resource Link: https://www.grintranet.com/NewIntranet/Protected/PageLoader.aspx?pageId=1717\n",
      "\n",
      "Question: What is this new 3 day wait requirement?\n",
      "Answer: The new 3 day wait requirement is only applicable when there is a change in the Loan Type or Program (such as from 30 year to 20 year, Conv to FHA, or Fixed to ARM), changes in APR that increase by more than .125%, or the addition of a prepayment penalty. In these cases, a new 3 day waiting period is required before the loan can proceed. You can find more information in the CD Redisclosure Reference Guide.\n",
      "\n",
      "Question: How do I verify if I failed my compliance training?\n",
      "Answer: Please see the policy and FAQ below which addresses the system restrictions for failure to complete training. This should provide you with information on how to verify if you have failed your compliance training.\n",
      "GRI Resource Link: https://home.grintranet.com/rc/SitePages/Compliance%20Training%20Information%20and%20FAQ.aspx\n",
      "\n",
      "Question: Do I need to sign commitment letter 3 days prior to closing for NJ?\n",
      "Answer: Yes, according to the information provided, the NJ Final Commitment letter needs to be signed 3 days prior to closing. You can find more information about NJ Approval letters in the New Jersey Approval and Fees policy on the GRI Resource Link provided.\n",
      "\n",
      "Question: Will I be able to add co-borrower after ICD?Give me details on Taxpayer Consent Form\n",
      "Answer: A co-applicant cannot be added to a loan after the Initial Closing Disclosure (ICD) has been issued. If you wish to add a co-borrower, you will need to either remove the existing co-applicant or, if the loan does not qualify without the co-applicant, the loan will need to be adverse and a new loan application with the co-borrower will need to be submitted. You can find more information on restarting a loan in the provided link: [Restarting a Loan](https://home.grintranet.com/rc/SitePages/Restarting%20a%20Loan.aspx).\n",
      "\n",
      "Regarding the Taxpayer Consent Form, it is a disclosure that is required to meet compliance with the Taxpayer First Act. The borrower's consent is specific to the transaction but may be utilized by the investor, servicer, or in quality control or audit scenarios after loan closing. While the lender may not use tax transcript information for marketing purposes, the investor or servicer could potentially use the information for their own purposes, as outlined in their Privacy Notice. The borrower is required to sign this disclosure in order to proceed with the loan. You can find more information on the Taxpayer Consent Form and its requirements in the provided link: [Taxpayer Consent Language](https://www.mismo.org/standards-resources/mismo-product/taxpayer-consent-language).\n",
      "\n",
      "Question: How do I collect fees after my loan was withrawn?\n",
      "Answer: Company policy does not permit us to collect any fees after a loan has been adversed.\n",
      "\n",
      "Question: What are the program guidelines for\n",
      "Answer: Since this is a guideline question, you would need to escalate this question to your UW. If the loan has not yet been submitted to UW, you can escalate to your designated Credit Concierge Analyst. Please see the file escalation and exception policy below and let me know if you have any further questions.\n",
      "GRI Resource Link: https://home.grintranet.com/rc/SitePages/Mandatory%20File%20Escalation%20and%20Exception%20Process.aspx\n",
      "\n",
      "Question: What are the instructions for to get POA approved?\n",
      "Answer: This will need to be escalated to the POA desk. Please see the below POA policy if you have any additional questions regarding the POA process.\n",
      "GRI Resource Link: https://home.grintranet.com/rc/SitePages/Power%20of%20Attorney%20Requirements%20and%20Approval%20Process.aspx\n",
      "\n",
      "Question: Texas 50(f)(2) Disclosure\n",
      "Answer: The 50(f)(2) disclosure must be provided to the borrower and spouse within our 3 day RESPA window. If it was not provided to the spouse within our 3 day RESPA window, then we are out of compliance on this loan and disclosing to the spouse now does not cure the file. I’ve included the policy below.\n",
      "\n",
      "GRI Resource Link: https://home.grintranet.com/rc/SitePages/Texas%2050a6%20Refinance%20to%20Rate%20and%20Term.aspx\n",
      "\n",
      "Question: How do I move a file back?\n",
      "Answer: We would not move milestones back to started. Instead, if the Disclosures and the supporting documentation checklist have been sent to the applicant, but the applicant has not returned any items, then we would issue the 30 day NIA within 30 days of our RESPA app date.\n",
      "\n",
      "Question: Who can I give a gift to?\n",
      "Answer: This is a not a practice we would recommend. It could be seen by regulators as offering a gift to the borrower for the completion of an application.\n",
      "\n"
     ]
    }
   ],
   "source": [
    "questions = [\n",
    "    \"Can I share my credit report?\",\n",
    "    \"Recast Request?\",\n",
    "    \"How do I make lock transfer request?\",\n",
    "    \"What is this new 3 day wait requirement?\",\n",
    "    \"How do I verify if I failed my compliance training?\",\n",
    "    \"Do I need to sign commitment letter 3 days prior to closing for NJ?\",\n",
    "    \"Will I be able to add co-borrower after ICD?\"\n",
    "    \"Give me details on Taxpayer Consent Form\",\n",
    "    \"How do I collect fees after my loan was withrawn?\",\n",
    "    \"What are the program guidelines for\",\n",
    "    \"What are the instructions for to get POA approved?\",\n",
    "    \"Texas 50(f)(2) Disclosure\",\n",
    "    \"How do I move a file back?\",\n",
    "    \"Who can I give a gift to?\",\n",
    "]\n",
    "\n",
    "for question in questions:\n",
    "    response = runChain(question)\n",
    "    print(f\"Question: {question}\")\n",
    "    print(f\"Answer: {response}\")\n",
    "    print(\"\")"
   ]
  },
  {
   "cell_type": "code",
   "execution_count": null,
   "metadata": {},
   "outputs": [],
   "source": []
  }
 ],
 "metadata": {
  "kernelspec": {
   "display_name": "Python 3",
   "language": "python",
   "name": "python3"
  },
  "language_info": {
   "codemirror_mode": {
    "name": "ipython",
    "version": 3
   },
   "file_extension": ".py",
   "mimetype": "text/x-python",
   "name": "python",
   "nbconvert_exporter": "python",
   "pygments_lexer": "ipython3",
   "version": "3.9.13"
  },
  "orig_nbformat": 4
 },
 "nbformat": 4,
 "nbformat_minor": 2
}
